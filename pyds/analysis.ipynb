{
 "metadata": {
  "language_info": {
   "codemirror_mode": {
    "name": "ipython",
    "version": 3
   },
   "file_extension": ".py",
   "mimetype": "text/x-python",
   "name": "python",
   "nbconvert_exporter": "python",
   "pygments_lexer": "ipython3",
   "version": "3.8.5-final"
  },
  "orig_nbformat": 2,
  "kernelspec": {
   "name": "python3",
   "display_name": "Python 3",
   "language": "python"
  }
 },
 "nbformat": 4,
 "nbformat_minor": 2,
 "cells": [
  {
   "cell_type": "code",
   "execution_count": 96,
   "metadata": {},
   "outputs": [
    {
     "output_type": "execute_result",
     "data": {
      "text/plain": [
       "    Unnamed: 0 Country Name  Year  Agriculture, value added (% of GDP)  \\\n",
       "22          22      Algeria  1972                             8.420846   \n",
       "23          23      Algeria  1977                             8.470141   \n",
       "17          17      Albania  1997                            32.700160   \n",
       "18          18      Albania  2002                            24.235933   \n",
       "19          19      Albania  2007                            19.874798   \n",
       "\n",
       "    CO2 emissions (metric tons per capita)  \\\n",
       "22                                1.843624   \n",
       "23                                2.368082   \n",
       "17                                0.490365   \n",
       "18                                1.229541   \n",
       "19                                1.322335   \n",
       "\n",
       "    Domestic credit provided by financial sector (% of GDP)  \\\n",
       "22                                          55.748145         \n",
       "23                                          58.312256         \n",
       "17                                          54.045926         \n",
       "18                                          47.193912         \n",
       "19                                          62.076755         \n",
       "\n",
       "    Electric power consumption (kWh per capita)  \\\n",
       "22                                   142.029428   \n",
       "23                                   231.710422   \n",
       "17                                   680.688922   \n",
       "18                                  1561.122382   \n",
       "19                                  1213.124369   \n",
       "\n",
       "    Energy use (kg of oil equivalent per capita)  \\\n",
       "22                                    261.465251   \n",
       "23                                    398.656113   \n",
       "17                                    384.594958   \n",
       "18                                    645.080154   \n",
       "19                                    679.861765   \n",
       "\n",
       "    Exports of goods and services (% of GDP)  \\\n",
       "22                                 20.449562   \n",
       "23                                 30.586567   \n",
       "17                                  9.745654   \n",
       "18                                 19.598874   \n",
       "19                                 28.084222   \n",
       "\n",
       "    Fertility rate, total (births per woman)  GDP growth (annual %)  \\\n",
       "22                                     7.597              27.423969   \n",
       "23                                     7.234               5.258586   \n",
       "17                                     2.423             -10.837856   \n",
       "18                                     1.975               4.231371   \n",
       "19                                     1.635               5.900000   \n",
       "\n",
       "    Imports of goods and services (% of GDP)  \\\n",
       "22                                 25.726868   \n",
       "23                                 41.740317   \n",
       "17                                 34.189995   \n",
       "18                                 44.335366   \n",
       "19                                 54.788201   \n",
       "\n",
       "    Industry, value added (% of GDP)  Inflation, GDP deflator (annual %)  \\\n",
       "22                         48.127965                           -4.606461   \n",
       "23                         55.230902                           11.927099   \n",
       "17                         15.377651                           12.088706   \n",
       "18                         19.596072                            2.410590   \n",
       "19                         25.334355                            3.576195   \n",
       "\n",
       "    Life expectancy at birth, total (years)  \\\n",
       "22                                51.171805   \n",
       "23                                54.578268   \n",
       "17                                72.898098   \n",
       "18                                75.154610   \n",
       "19                                76.470293   \n",
       "\n",
       "    Population density (people per sq. km of land area)  \\\n",
       "22                                           6.456244     \n",
       "23                                           7.427420     \n",
       "17                                         114.900766     \n",
       "18                                         111.350730     \n",
       "19                                         108.394781     \n",
       "\n",
       "    Services, etc., value added (% of GDP)         pop continent    gdpPercap  \n",
       "22                               43.451191  14760787.0    Africa  4182.663766  \n",
       "23                               36.298962  17152804.0    Africa  4910.416756  \n",
       "17                               51.922189   3428038.0    Europe  3193.054604  \n",
       "18                               56.167995   3508512.0    Europe  4604.211737  \n",
       "19                               54.790848   3600523.0    Europe  5937.029526  "
      ],
      "text/html": "<div>\n<style scoped>\n    .dataframe tbody tr th:only-of-type {\n        vertical-align: middle;\n    }\n\n    .dataframe tbody tr th {\n        vertical-align: top;\n    }\n\n    .dataframe thead th {\n        text-align: right;\n    }\n</style>\n<table border=\"1\" class=\"dataframe\">\n  <thead>\n    <tr style=\"text-align: right;\">\n      <th></th>\n      <th>Unnamed: 0</th>\n      <th>Country Name</th>\n      <th>Year</th>\n      <th>Agriculture, value added (% of GDP)</th>\n      <th>CO2 emissions (metric tons per capita)</th>\n      <th>Domestic credit provided by financial sector (% of GDP)</th>\n      <th>Electric power consumption (kWh per capita)</th>\n      <th>Energy use (kg of oil equivalent per capita)</th>\n      <th>Exports of goods and services (% of GDP)</th>\n      <th>Fertility rate, total (births per woman)</th>\n      <th>GDP growth (annual %)</th>\n      <th>Imports of goods and services (% of GDP)</th>\n      <th>Industry, value added (% of GDP)</th>\n      <th>Inflation, GDP deflator (annual %)</th>\n      <th>Life expectancy at birth, total (years)</th>\n      <th>Population density (people per sq. km of land area)</th>\n      <th>Services, etc., value added (% of GDP)</th>\n      <th>pop</th>\n      <th>continent</th>\n      <th>gdpPercap</th>\n    </tr>\n  </thead>\n  <tbody>\n    <tr>\n      <th>22</th>\n      <td>22</td>\n      <td>Algeria</td>\n      <td>1972</td>\n      <td>8.420846</td>\n      <td>1.843624</td>\n      <td>55.748145</td>\n      <td>142.029428</td>\n      <td>261.465251</td>\n      <td>20.449562</td>\n      <td>7.597</td>\n      <td>27.423969</td>\n      <td>25.726868</td>\n      <td>48.127965</td>\n      <td>-4.606461</td>\n      <td>51.171805</td>\n      <td>6.456244</td>\n      <td>43.451191</td>\n      <td>14760787.0</td>\n      <td>Africa</td>\n      <td>4182.663766</td>\n    </tr>\n    <tr>\n      <th>23</th>\n      <td>23</td>\n      <td>Algeria</td>\n      <td>1977</td>\n      <td>8.470141</td>\n      <td>2.368082</td>\n      <td>58.312256</td>\n      <td>231.710422</td>\n      <td>398.656113</td>\n      <td>30.586567</td>\n      <td>7.234</td>\n      <td>5.258586</td>\n      <td>41.740317</td>\n      <td>55.230902</td>\n      <td>11.927099</td>\n      <td>54.578268</td>\n      <td>7.427420</td>\n      <td>36.298962</td>\n      <td>17152804.0</td>\n      <td>Africa</td>\n      <td>4910.416756</td>\n    </tr>\n    <tr>\n      <th>17</th>\n      <td>17</td>\n      <td>Albania</td>\n      <td>1997</td>\n      <td>32.700160</td>\n      <td>0.490365</td>\n      <td>54.045926</td>\n      <td>680.688922</td>\n      <td>384.594958</td>\n      <td>9.745654</td>\n      <td>2.423</td>\n      <td>-10.837856</td>\n      <td>34.189995</td>\n      <td>15.377651</td>\n      <td>12.088706</td>\n      <td>72.898098</td>\n      <td>114.900766</td>\n      <td>51.922189</td>\n      <td>3428038.0</td>\n      <td>Europe</td>\n      <td>3193.054604</td>\n    </tr>\n    <tr>\n      <th>18</th>\n      <td>18</td>\n      <td>Albania</td>\n      <td>2002</td>\n      <td>24.235933</td>\n      <td>1.229541</td>\n      <td>47.193912</td>\n      <td>1561.122382</td>\n      <td>645.080154</td>\n      <td>19.598874</td>\n      <td>1.975</td>\n      <td>4.231371</td>\n      <td>44.335366</td>\n      <td>19.596072</td>\n      <td>2.410590</td>\n      <td>75.154610</td>\n      <td>111.350730</td>\n      <td>56.167995</td>\n      <td>3508512.0</td>\n      <td>Europe</td>\n      <td>4604.211737</td>\n    </tr>\n    <tr>\n      <th>19</th>\n      <td>19</td>\n      <td>Albania</td>\n      <td>2007</td>\n      <td>19.874798</td>\n      <td>1.322335</td>\n      <td>62.076755</td>\n      <td>1213.124369</td>\n      <td>679.861765</td>\n      <td>28.084222</td>\n      <td>1.635</td>\n      <td>5.900000</td>\n      <td>54.788201</td>\n      <td>25.334355</td>\n      <td>3.576195</td>\n      <td>76.470293</td>\n      <td>108.394781</td>\n      <td>54.790848</td>\n      <td>3600523.0</td>\n      <td>Europe</td>\n      <td>5937.029526</td>\n    </tr>\n  </tbody>\n</table>\n</div>"
     },
     "metadata": {},
     "execution_count": 96
    }
   ],
   "source": [
    "import pandas as pd \n",
    "import plotly.express as px\n",
    "\n",
    "co2_label = \"CO2 emissions (metric tons per capita)\"\n",
    "gdp_label = \"gdpPercap\"\n",
    "\n",
    "gapminder_df = pd.read_csv('./gapminder_clean.csv')\n",
    "gapminder_df = gapminder_df.replace([np.inf, -np.inf], np.nan).dropna()\n",
    "\n",
    "gapminder_df.head().sort_values(by='Year')"
   ]
  },
  {
   "cell_type": "code",
   "execution_count": null,
   "metadata": {},
   "outputs": [],
   "source": [
    "gapminder_df_1962 = gapminder_df[gapminder_df['Year'] == 1962]\n",
    "\n",
    "px.scatter(gapminder_df_1962, x=co2_label, y=gdp_label)"
   ]
  },
  {
   "cell_type": "code",
   "execution_count": 2,
   "metadata": {},
   "outputs": [
    {
     "output_type": "stream",
     "name": "stdout",
     "text": [
      "Pearsons Correlation: 0.813291861531547\np value: 2.9309176165291103e-280\n"
     ]
    }
   ],
   "source": [
    "from scipy.stats import pearsonr\n",
    "import numpy as np\n",
    "\n",
    "pearson_corr, p_value = pearsonr(gapminder_df[co2_label].values, gapminder_df[gdp_label].values)\n",
    "\n",
    "print('Pearsons Correlation: ' + str(pearson_corr))\n",
    "print('p value: ' + str(p_value))"
   ]
  },
  {
   "cell_type": "code",
   "execution_count": 3,
   "metadata": {},
   "outputs": [
    {
     "output_type": "execute_result",
     "data": {
      "text/plain": [
       "1967"
      ]
     },
     "metadata": {},
     "execution_count": 3
    }
   ],
   "source": [
    "# Find the year with the highest correlation \n",
    "\n",
    "def group_results(name, group):\n",
    "    pearson_corr, p_value = pearsonr(group[co2_label].values, group[gdp_label].values)\n",
    "    return pd.Series({'Year': name, 'pvalue': p_value, 'pearson_corr': pearson_corr })\n",
    "\n",
    "grouped_results = gapminder_df.groupby('Year').apply(lambda x: group_results(x.name, x)).sort_values(by='pearson_corr', ascending=False)\n",
    "\n",
    "highest_corr_year = int(grouped_results['Year'].iloc[0])\n",
    "\n",
    "highest_corr_year"
   ]
  },
  {
   "cell_type": "code",
   "execution_count": 26,
   "metadata": {},
   "outputs": [
    {
     "output_type": "display_data",
     "data": {
      "application/vnd.plotly.v1+json": {
       "config": {
        "plotlyServerURL": "https://plot.ly"
       },
       "data": [
        {
         "hovertemplate": "continent=Asia<br>CO2 emissions (metric tons per capita)=%{x}<br>gdpPercap=%{y}<br>pop=%{marker.size}<extra></extra>",
         "legendgroup": "Asia",
         "marker": {
          "color": "#636efa",
          "size": [
           11537966,
           202182,
           6960067,
           754550000,
           506000000,
           109343000,
           8519282,
           2693585,
           100825279,
           1255058,
           575003,
           2186894,
           1149500,
           25870271,
           11261690,
           714775,
           60641899,
           35356600,
           5618198,
           1977600,
           11737396,
           34024249,
           39463910
          ],
          "sizemode": "area",
          "sizeref": 1886375,
          "symbol": "circle"
         },
         "mode": "markers",
         "name": "Asia",
         "orientation": "v",
         "showlegend": true,
         "type": "scatter",
         "x": [
          0.123782381421,
          5.12101242081,
          0.0624360387486,
          0.574162146975,
          0.331763432432,
          0.23191547809,
          2.05575631533,
          4.93341748634,
          4.86355784562,
          1.0719834839700002,
          43.4283027016,
          1.64225486815,
          1.83477215037,
          0.143519517019,
          0.0188098863912,
          0.205537806177,
          0.402522332305,
          0.555413076261,
          4.90876421118,
          1.54645934466,
          0.25192412202,
          0.360202673298,
          0.574906353177
         ],
         "xaxis": "x",
         "y": [
          836.1971382,
          14804.6727,
          523.4323142,
          612.7056934,
          700.7706107000001,
          762.4317721,
          8931.459811,
          8393.741404,
          9847.788607,
          2741.796252,
          80894.88326,
          6006.983042,
          1226.04113,
          349,
          676.4422254,
          4720.942687,
          942.4082588,
          1814.12743,
          16903.04886,
          4977.41854,
          1135.514326,
          1295.46066,
          637.1232887
         ],
         "yaxis": "y"
        },
        {
         "hovertemplate": "continent=Europe<br>CO2 emissions (metric tons per capita)=%{x}<br>gdpPercap=%{y}<br>pop=%{marker.size}<extra></extra>",
         "legendgroup": "Europe",
         "marker": {
          "color": "#EF553B",
          "size": [
           1984060,
           7376998,
           9556500,
           8310226,
           4838800,
           4605744,
           49569000,
           8716441,
           10223422,
           198676,
           2900100,
           52667100,
           12596822,
           3786019,
           31785378,
           9103000,
           19284814,
           32850275,
           7867931,
           6063000,
           33411317,
           54959000
          ],
          "sizemode": "area",
          "sizeref": 1886375,
          "symbol": "circle"
         },
         "mode": "markers",
         "name": "Europe",
         "orientation": "v",
         "showlegend": true,
         "type": "scatter",
         "x": [
          1.36374630011,
          5.41773672705,
          11.2172567535,
          6.63836916108,
          10.1493005476,
          6.21338658857,
          7.3064221599,
          2.24941398567,
          5.758242269149999,
          7.269387323839999,
          5.65504728764,
          4.43148255688,
          8.47605463669,
          5.1072949704,
          8.105834013680001,
          1.39828723131,
          4.71631855487,
          2.64722755876,
          8.770023402589999,
          5.43460087436,
          1.03313907211,
          10.7841045545
         ],
         "xaxis": "x",
         "y": [
          2760.196931,
          12834.6024,
          13149.04119,
          5577.0028,
          15937.21123,
          10921.63626,
          12999.91766,
          8513.097016,
          9326.64467,
          13319.89568,
          7655.568963,
          10022.40131,
          15363.25136,
          16361.87647,
          6557.152776,
          6361.517993,
          6470.866545,
          7993.512294,
          15258.29697,
          22966.14432,
          2826.3563870000003,
          14142.85089
         ],
         "yaxis": "y"
        },
        {
         "hovertemplate": "continent=Africa<br>CO2 emissions (metric tons per capita)=%{x}<br>gdpPercap=%{y}<br>pop=%{marker.size}<extra></extra>",
         "legendgroup": "Africa",
         "marker": {
          "color": "#00cc96",
          "size": [
           12760499,
           5247469,
           2427334,
           5127935,
           3330989,
           6335506,
           1733638,
           3495967,
           217378,
           4744870,
           127617,
           259864,
           27860297,
           489004,
           8490213,
           3451418,
           601287,
           10191512,
           1279406,
           1759224,
           6334556,
           4147252,
           5212416,
           1230542,
           789309,
           14770296,
           8680909,
           4534062,
           47287752,
           3451079,
           70787,
           3965841,
           2662190,
           3428839,
           20997321,
           12716129,
           420690,
           12607312,
           1735550,
           4786986,
           8900294,
           3900000,
           4995432
          ],
          "sizemode": "area",
          "sizeref": 1886375,
          "symbol": "circle"
         },
         "mode": "markers",
         "name": "Africa",
         "orientation": "v",
         "showlegend": true,
         "type": "scatter",
         "x": [
          0.632118426889,
          0.166658588848,
          0.0523195961148,
          0.0192168474009,
          0.0147354429891,
          0.0729810151442,
          0.0533441408437,
          0.0341490827003,
          0.0856623590204,
          0.324270273072,
          0.669756398256,
          0.0908814105401,
          0.0408827807982,
          1.82744493336,
          0.185683744295,
          0.180529006335,
          0.0707397168393,
          0.266146233454,
          0.465652918101,
          9.94130993774,
          0.138895338975,
          0.086039155676,
          0.0392007077217,
          0.188179057955,
          0.6361795955439999,
          0.3615857767970001,
          0.216165510896,
          0.0318543481335,
          0.244682890582,
          0.0118002652184999,
          0.1620797359809999,
          0.181319271624,
          0.105440879922,
          0.0704483235701,
          6.46564779364,
          0.250771072594,
          0.55253014742,
          0.141879278158,
          0.10672264605,
          0.638870927594,
          0.0944460734361,
          1.2636279603,
          1.12296052314
         ],
         "xaxis": "x",
         "y": [
          3246.991771,
          5522.776375,
          1035.831411,
          794.8265597,
          412.97751360000007,
          1508.453148,
          1136.056615,
          1196.810565,
          1876.029643,
          2052.050473,
          3020.050513,
          915.5960025,
          516.1186438,
          8358.761987,
          1125.69716,
          708.7595409,
          715.5806402000001,
          1056.736457,
          713.6036482999999,
          18772.75169,
          1634.047282,
          495.5147806,
          545.0098873,
          1421.145193,
          2475.387562,
          1711.04477,
          566.6691539,
          1054.384891,
          1014.514104,
          510.9637142,
          1384.840593,
          1612.404632,
          1206.043465,
          1284.7331800000002,
          7114.477970999999,
          1687.997641,
          2613.101665,
          848.2186575,
          1477.59676,
          1932.3601670000005,
          908.9185217,
          1777.077318,
          569.7950712
         ],
         "yaxis": "y"
        },
        {
         "hovertemplate": "continent=Americas<br>CO2 emissions (metric tons per capita)=%{x}<br>gdpPercap=%{y}<br>pop=%{marker.size}<extra></extra>",
         "legendgroup": "Americas",
         "marker": {
          "color": "#ab63fa",
          "size": [
           22934225,
           4040665,
           88049823,
           20819767,
           8858908,
           19764027,
           1588717,
           8139332,
           4049146,
           5432424,
           3232927,
           4690773,
           4318137,
           2500689,
           1861096,
           47995559,
           1865490,
           1405486,
           2287985,
           12132200,
           960155,
           198712000,
           2748579
          ],
          "sizemode": "area",
          "sizeref": 1886375,
          "symbol": "circle"
         },
         "mode": "markers",
         "name": "Americas",
         "orientation": "v",
         "showlegend": true,
         "type": "scatter",
         "x": [
          2.85816254619,
          0.446569679542,
          0.744966530874,
          13.8103545953,
          2.1409901271900003,
          1.21683476874,
          0.517145991263,
          1.90593276713,
          0.380469161164,
          0.465781970972,
          0.342459705043,
          0.397317380131,
          0.0585660070754,
          0.352498584235,
          2.14463346178,
          1.8996986330400003,
          0.493983688604,
          1.21812383412,
          0.213013396786,
          1.1118562074299998,
          5.00989828473,
          18.5983178822,
          1.77610139003
         ],
         "xaxis": "x",
         "y": [
          8052.953020999999,
          2586.886053,
          3429.864357,
          16076.58803,
          5106.654313,
          2678.729839,
          4161.727834,
          5690.268015,
          1653.7230029999998,
          4579.074215,
          4358.595393,
          3242.531147,
          1452.057666,
          2538.269358,
          6124.703450999999,
          5754.733883,
          4643.393534000001,
          4421.009084,
          2299.376311,
          5788.09333,
          5621.368472,
          19530.36557,
          5444.61962
         ],
         "yaxis": "y"
        },
        {
         "hovertemplate": "continent=Oceania<br>CO2 emissions (metric tons per capita)=%{x}<br>gdpPercap=%{y}<br>pop=%{marker.size}<extra></extra>",
         "legendgroup": "Oceania",
         "marker": {
          "color": "#FFA15A",
          "size": [
           11872264,
           2728150
          ],
          "sizemode": "area",
          "sizeref": 1886375,
          "symbol": "circle"
         },
         "mode": "markers",
         "name": "Oceania",
         "orientation": "v",
         "showlegend": true,
         "type": "scatter",
         "x": [
          10.9556247987,
          5.00761352373
         ],
         "xaxis": "x",
         "y": [
          14526.12465,
          14463.918930000002
         ],
         "yaxis": "y"
        }
       ],
       "layout": {
        "legend": {
         "itemsizing": "constant",
         "title": {
          "text": "continent"
         },
         "tracegroupgap": 0
        },
        "template": {
         "data": {
          "bar": [
           {
            "error_x": {
             "color": "#2a3f5f"
            },
            "error_y": {
             "color": "#2a3f5f"
            },
            "marker": {
             "line": {
              "color": "#E5ECF6",
              "width": 0.5
             }
            },
            "type": "bar"
           }
          ],
          "barpolar": [
           {
            "marker": {
             "line": {
              "color": "#E5ECF6",
              "width": 0.5
             }
            },
            "type": "barpolar"
           }
          ],
          "carpet": [
           {
            "aaxis": {
             "endlinecolor": "#2a3f5f",
             "gridcolor": "white",
             "linecolor": "white",
             "minorgridcolor": "white",
             "startlinecolor": "#2a3f5f"
            },
            "baxis": {
             "endlinecolor": "#2a3f5f",
             "gridcolor": "white",
             "linecolor": "white",
             "minorgridcolor": "white",
             "startlinecolor": "#2a3f5f"
            },
            "type": "carpet"
           }
          ],
          "choropleth": [
           {
            "colorbar": {
             "outlinewidth": 0,
             "ticks": ""
            },
            "type": "choropleth"
           }
          ],
          "contour": [
           {
            "colorbar": {
             "outlinewidth": 0,
             "ticks": ""
            },
            "colorscale": [
             [
              0,
              "#0d0887"
             ],
             [
              0.1111111111111111,
              "#46039f"
             ],
             [
              0.2222222222222222,
              "#7201a8"
             ],
             [
              0.3333333333333333,
              "#9c179e"
             ],
             [
              0.4444444444444444,
              "#bd3786"
             ],
             [
              0.5555555555555556,
              "#d8576b"
             ],
             [
              0.6666666666666666,
              "#ed7953"
             ],
             [
              0.7777777777777778,
              "#fb9f3a"
             ],
             [
              0.8888888888888888,
              "#fdca26"
             ],
             [
              1,
              "#f0f921"
             ]
            ],
            "type": "contour"
           }
          ],
          "contourcarpet": [
           {
            "colorbar": {
             "outlinewidth": 0,
             "ticks": ""
            },
            "type": "contourcarpet"
           }
          ],
          "heatmap": [
           {
            "colorbar": {
             "outlinewidth": 0,
             "ticks": ""
            },
            "colorscale": [
             [
              0,
              "#0d0887"
             ],
             [
              0.1111111111111111,
              "#46039f"
             ],
             [
              0.2222222222222222,
              "#7201a8"
             ],
             [
              0.3333333333333333,
              "#9c179e"
             ],
             [
              0.4444444444444444,
              "#bd3786"
             ],
             [
              0.5555555555555556,
              "#d8576b"
             ],
             [
              0.6666666666666666,
              "#ed7953"
             ],
             [
              0.7777777777777778,
              "#fb9f3a"
             ],
             [
              0.8888888888888888,
              "#fdca26"
             ],
             [
              1,
              "#f0f921"
             ]
            ],
            "type": "heatmap"
           }
          ],
          "heatmapgl": [
           {
            "colorbar": {
             "outlinewidth": 0,
             "ticks": ""
            },
            "colorscale": [
             [
              0,
              "#0d0887"
             ],
             [
              0.1111111111111111,
              "#46039f"
             ],
             [
              0.2222222222222222,
              "#7201a8"
             ],
             [
              0.3333333333333333,
              "#9c179e"
             ],
             [
              0.4444444444444444,
              "#bd3786"
             ],
             [
              0.5555555555555556,
              "#d8576b"
             ],
             [
              0.6666666666666666,
              "#ed7953"
             ],
             [
              0.7777777777777778,
              "#fb9f3a"
             ],
             [
              0.8888888888888888,
              "#fdca26"
             ],
             [
              1,
              "#f0f921"
             ]
            ],
            "type": "heatmapgl"
           }
          ],
          "histogram": [
           {
            "marker": {
             "colorbar": {
              "outlinewidth": 0,
              "ticks": ""
             }
            },
            "type": "histogram"
           }
          ],
          "histogram2d": [
           {
            "colorbar": {
             "outlinewidth": 0,
             "ticks": ""
            },
            "colorscale": [
             [
              0,
              "#0d0887"
             ],
             [
              0.1111111111111111,
              "#46039f"
             ],
             [
              0.2222222222222222,
              "#7201a8"
             ],
             [
              0.3333333333333333,
              "#9c179e"
             ],
             [
              0.4444444444444444,
              "#bd3786"
             ],
             [
              0.5555555555555556,
              "#d8576b"
             ],
             [
              0.6666666666666666,
              "#ed7953"
             ],
             [
              0.7777777777777778,
              "#fb9f3a"
             ],
             [
              0.8888888888888888,
              "#fdca26"
             ],
             [
              1,
              "#f0f921"
             ]
            ],
            "type": "histogram2d"
           }
          ],
          "histogram2dcontour": [
           {
            "colorbar": {
             "outlinewidth": 0,
             "ticks": ""
            },
            "colorscale": [
             [
              0,
              "#0d0887"
             ],
             [
              0.1111111111111111,
              "#46039f"
             ],
             [
              0.2222222222222222,
              "#7201a8"
             ],
             [
              0.3333333333333333,
              "#9c179e"
             ],
             [
              0.4444444444444444,
              "#bd3786"
             ],
             [
              0.5555555555555556,
              "#d8576b"
             ],
             [
              0.6666666666666666,
              "#ed7953"
             ],
             [
              0.7777777777777778,
              "#fb9f3a"
             ],
             [
              0.8888888888888888,
              "#fdca26"
             ],
             [
              1,
              "#f0f921"
             ]
            ],
            "type": "histogram2dcontour"
           }
          ],
          "mesh3d": [
           {
            "colorbar": {
             "outlinewidth": 0,
             "ticks": ""
            },
            "type": "mesh3d"
           }
          ],
          "parcoords": [
           {
            "line": {
             "colorbar": {
              "outlinewidth": 0,
              "ticks": ""
             }
            },
            "type": "parcoords"
           }
          ],
          "pie": [
           {
            "automargin": true,
            "type": "pie"
           }
          ],
          "scatter": [
           {
            "marker": {
             "colorbar": {
              "outlinewidth": 0,
              "ticks": ""
             }
            },
            "type": "scatter"
           }
          ],
          "scatter3d": [
           {
            "line": {
             "colorbar": {
              "outlinewidth": 0,
              "ticks": ""
             }
            },
            "marker": {
             "colorbar": {
              "outlinewidth": 0,
              "ticks": ""
             }
            },
            "type": "scatter3d"
           }
          ],
          "scattercarpet": [
           {
            "marker": {
             "colorbar": {
              "outlinewidth": 0,
              "ticks": ""
             }
            },
            "type": "scattercarpet"
           }
          ],
          "scattergeo": [
           {
            "marker": {
             "colorbar": {
              "outlinewidth": 0,
              "ticks": ""
             }
            },
            "type": "scattergeo"
           }
          ],
          "scattergl": [
           {
            "marker": {
             "colorbar": {
              "outlinewidth": 0,
              "ticks": ""
             }
            },
            "type": "scattergl"
           }
          ],
          "scattermapbox": [
           {
            "marker": {
             "colorbar": {
              "outlinewidth": 0,
              "ticks": ""
             }
            },
            "type": "scattermapbox"
           }
          ],
          "scatterpolar": [
           {
            "marker": {
             "colorbar": {
              "outlinewidth": 0,
              "ticks": ""
             }
            },
            "type": "scatterpolar"
           }
          ],
          "scatterpolargl": [
           {
            "marker": {
             "colorbar": {
              "outlinewidth": 0,
              "ticks": ""
             }
            },
            "type": "scatterpolargl"
           }
          ],
          "scatterternary": [
           {
            "marker": {
             "colorbar": {
              "outlinewidth": 0,
              "ticks": ""
             }
            },
            "type": "scatterternary"
           }
          ],
          "surface": [
           {
            "colorbar": {
             "outlinewidth": 0,
             "ticks": ""
            },
            "colorscale": [
             [
              0,
              "#0d0887"
             ],
             [
              0.1111111111111111,
              "#46039f"
             ],
             [
              0.2222222222222222,
              "#7201a8"
             ],
             [
              0.3333333333333333,
              "#9c179e"
             ],
             [
              0.4444444444444444,
              "#bd3786"
             ],
             [
              0.5555555555555556,
              "#d8576b"
             ],
             [
              0.6666666666666666,
              "#ed7953"
             ],
             [
              0.7777777777777778,
              "#fb9f3a"
             ],
             [
              0.8888888888888888,
              "#fdca26"
             ],
             [
              1,
              "#f0f921"
             ]
            ],
            "type": "surface"
           }
          ],
          "table": [
           {
            "cells": {
             "fill": {
              "color": "#EBF0F8"
             },
             "line": {
              "color": "white"
             }
            },
            "header": {
             "fill": {
              "color": "#C8D4E3"
             },
             "line": {
              "color": "white"
             }
            },
            "type": "table"
           }
          ]
         },
         "layout": {
          "annotationdefaults": {
           "arrowcolor": "#2a3f5f",
           "arrowhead": 0,
           "arrowwidth": 1
          },
          "autotypenumbers": "strict",
          "coloraxis": {
           "colorbar": {
            "outlinewidth": 0,
            "ticks": ""
           }
          },
          "colorscale": {
           "diverging": [
            [
             0,
             "#8e0152"
            ],
            [
             0.1,
             "#c51b7d"
            ],
            [
             0.2,
             "#de77ae"
            ],
            [
             0.3,
             "#f1b6da"
            ],
            [
             0.4,
             "#fde0ef"
            ],
            [
             0.5,
             "#f7f7f7"
            ],
            [
             0.6,
             "#e6f5d0"
            ],
            [
             0.7,
             "#b8e186"
            ],
            [
             0.8,
             "#7fbc41"
            ],
            [
             0.9,
             "#4d9221"
            ],
            [
             1,
             "#276419"
            ]
           ],
           "sequential": [
            [
             0,
             "#0d0887"
            ],
            [
             0.1111111111111111,
             "#46039f"
            ],
            [
             0.2222222222222222,
             "#7201a8"
            ],
            [
             0.3333333333333333,
             "#9c179e"
            ],
            [
             0.4444444444444444,
             "#bd3786"
            ],
            [
             0.5555555555555556,
             "#d8576b"
            ],
            [
             0.6666666666666666,
             "#ed7953"
            ],
            [
             0.7777777777777778,
             "#fb9f3a"
            ],
            [
             0.8888888888888888,
             "#fdca26"
            ],
            [
             1,
             "#f0f921"
            ]
           ],
           "sequentialminus": [
            [
             0,
             "#0d0887"
            ],
            [
             0.1111111111111111,
             "#46039f"
            ],
            [
             0.2222222222222222,
             "#7201a8"
            ],
            [
             0.3333333333333333,
             "#9c179e"
            ],
            [
             0.4444444444444444,
             "#bd3786"
            ],
            [
             0.5555555555555556,
             "#d8576b"
            ],
            [
             0.6666666666666666,
             "#ed7953"
            ],
            [
             0.7777777777777778,
             "#fb9f3a"
            ],
            [
             0.8888888888888888,
             "#fdca26"
            ],
            [
             1,
             "#f0f921"
            ]
           ]
          },
          "colorway": [
           "#636efa",
           "#EF553B",
           "#00cc96",
           "#ab63fa",
           "#FFA15A",
           "#19d3f3",
           "#FF6692",
           "#B6E880",
           "#FF97FF",
           "#FECB52"
          ],
          "font": {
           "color": "#2a3f5f"
          },
          "geo": {
           "bgcolor": "white",
           "lakecolor": "white",
           "landcolor": "#E5ECF6",
           "showlakes": true,
           "showland": true,
           "subunitcolor": "white"
          },
          "hoverlabel": {
           "align": "left"
          },
          "hovermode": "closest",
          "mapbox": {
           "style": "light"
          },
          "paper_bgcolor": "white",
          "plot_bgcolor": "#E5ECF6",
          "polar": {
           "angularaxis": {
            "gridcolor": "white",
            "linecolor": "white",
            "ticks": ""
           },
           "bgcolor": "#E5ECF6",
           "radialaxis": {
            "gridcolor": "white",
            "linecolor": "white",
            "ticks": ""
           }
          },
          "scene": {
           "xaxis": {
            "backgroundcolor": "#E5ECF6",
            "gridcolor": "white",
            "gridwidth": 2,
            "linecolor": "white",
            "showbackground": true,
            "ticks": "",
            "zerolinecolor": "white"
           },
           "yaxis": {
            "backgroundcolor": "#E5ECF6",
            "gridcolor": "white",
            "gridwidth": 2,
            "linecolor": "white",
            "showbackground": true,
            "ticks": "",
            "zerolinecolor": "white"
           },
           "zaxis": {
            "backgroundcolor": "#E5ECF6",
            "gridcolor": "white",
            "gridwidth": 2,
            "linecolor": "white",
            "showbackground": true,
            "ticks": "",
            "zerolinecolor": "white"
           }
          },
          "shapedefaults": {
           "line": {
            "color": "#2a3f5f"
           }
          },
          "ternary": {
           "aaxis": {
            "gridcolor": "white",
            "linecolor": "white",
            "ticks": ""
           },
           "baxis": {
            "gridcolor": "white",
            "linecolor": "white",
            "ticks": ""
           },
           "bgcolor": "#E5ECF6",
           "caxis": {
            "gridcolor": "white",
            "linecolor": "white",
            "ticks": ""
           }
          },
          "title": {
           "x": 0.05
          },
          "xaxis": {
           "automargin": true,
           "gridcolor": "white",
           "linecolor": "white",
           "ticks": "",
           "title": {
            "standoff": 15
           },
           "zerolinecolor": "white",
           "zerolinewidth": 2
          },
          "yaxis": {
           "automargin": true,
           "gridcolor": "white",
           "linecolor": "white",
           "ticks": "",
           "title": {
            "standoff": 15
           },
           "zerolinecolor": "white",
           "zerolinewidth": 2
          }
         }
        },
        "title": {
         "text": "CO2 Emission Per Capita v/s GDP Per Capita"
        },
        "xaxis": {
         "anchor": "y",
         "domain": [
          0,
          1
         ],
         "title": {
          "text": "CO2 emissions (metric tons per capita)"
         }
        },
        "yaxis": {
         "anchor": "x",
         "domain": [
          0,
          1
         ],
         "title": {
          "text": "gdpPercap"
         }
        }
       }
      }
     },
     "metadata": {}
    }
   ],
   "source": [
    "import plotly.express as px\n",
    "highest_corr_df = gapminder_df[gapminder_df['Year']== highest_corr_year]\n",
    "fig = px.scatter(highest_corr_df, x=co2_label, y=gdp_label, color=\"continent\",\n",
    "                 title=\"CO2 Emission Per Capita v/s GDP Per Capita\", size=\"pop\")\n",
    "\n",
    "fig.show()"
   ]
  },
  {
   "source": [
    "### Time for some questions!\n",
    "\n",
    "### Q1 \n",
    "\n",
    "What is the relationship between `continent` and `'Energy use (kg of oil equivalent per capita)'`? \n",
    "\n",
    "Well, the first step is to actually see the distribution of energy used per continent."
   ],
   "cell_type": "markdown",
   "metadata": {}
  },
  {
   "cell_type": "code",
   "execution_count": 167,
   "metadata": {},
   "outputs": [
    {
     "output_type": "display_data",
     "data": {
      "application/vnd.plotly.v1+json": {
       "config": {
        "plotlyServerURL": "https://plot.ly"
       },
       "data": [
        {
         "alignmentgroup": "True",
         "hovertemplate": "continent=%{x}<br>energy=%{y}<extra></extra>",
         "legendgroup": "",
         "marker": {
          "color": "#636efa"
         },
         "name": "",
         "notched": false,
         "offsetgroup": "",
         "orientation": "v",
         "showlegend": false,
         "type": "box",
         "x": [
          "Africa",
          "Africa",
          "Africa",
          "Africa",
          "Africa",
          "Africa",
          "Africa",
          "Africa",
          "Americas",
          "Americas",
          "Americas",
          "Americas",
          "Americas",
          "Americas",
          "Americas",
          "Americas",
          "Asia",
          "Asia",
          "Asia",
          "Asia",
          "Asia",
          "Asia",
          "Asia",
          "Asia",
          "Europe",
          "Europe",
          "Europe",
          "Europe",
          "Europe",
          "Europe",
          "Europe",
          "Europe",
          "Europe",
          "Europe",
          "Oceania",
          "Oceania",
          "Oceania",
          "Oceania",
          "Oceania",
          "Oceania",
          "Oceania",
          "Oceania"
         ],
         "x0": " ",
         "xaxis": "x",
         "y": [
          5061.597085580001,
          5971.540996618,
          9568.241537014,
          9914.336483313999,
          11354.723218248,
          13359.270512154,
          16417.391632206,
          17447.689871637,
          7950.475995225001,
          8362.588548589001,
          8190.282205453001,
          12527.790629882998,
          17037.226255604997,
          28255.393750987,
          32740.548969428997,
          47969.009501477,
          6224.956459765,
          10708.123688200001,
          24001.981981671997,
          25778.317792862003,
          34444.646441317,
          28084.809981679,
          29496.719410864,
          34370.699949825,
          410.021796967,
          2726.304710856,
          11650.413044879002,
          19868.103662674,
          24565.738000097997,
          28943.306007399,
          50693.007295565,
          91132.27122137402,
          101562.15677167499,
          111639.415190851,
          4035.20634439,
          4671.19567362,
          7830.460913049999,
          8225.33314484,
          8767.69213915,
          9728.35676597,
          9907.02151675,
          9922.84210162
         ],
         "y0": " ",
         "yaxis": "y"
        }
       ],
       "layout": {
        "boxmode": "group",
        "legend": {
         "tracegroupgap": 0
        },
        "margin": {
         "t": 60
        },
        "template": {
         "data": {
          "bar": [
           {
            "error_x": {
             "color": "#2a3f5f"
            },
            "error_y": {
             "color": "#2a3f5f"
            },
            "marker": {
             "line": {
              "color": "#E5ECF6",
              "width": 0.5
             }
            },
            "type": "bar"
           }
          ],
          "barpolar": [
           {
            "marker": {
             "line": {
              "color": "#E5ECF6",
              "width": 0.5
             }
            },
            "type": "barpolar"
           }
          ],
          "carpet": [
           {
            "aaxis": {
             "endlinecolor": "#2a3f5f",
             "gridcolor": "white",
             "linecolor": "white",
             "minorgridcolor": "white",
             "startlinecolor": "#2a3f5f"
            },
            "baxis": {
             "endlinecolor": "#2a3f5f",
             "gridcolor": "white",
             "linecolor": "white",
             "minorgridcolor": "white",
             "startlinecolor": "#2a3f5f"
            },
            "type": "carpet"
           }
          ],
          "choropleth": [
           {
            "colorbar": {
             "outlinewidth": 0,
             "ticks": ""
            },
            "type": "choropleth"
           }
          ],
          "contour": [
           {
            "colorbar": {
             "outlinewidth": 0,
             "ticks": ""
            },
            "colorscale": [
             [
              0,
              "#0d0887"
             ],
             [
              0.1111111111111111,
              "#46039f"
             ],
             [
              0.2222222222222222,
              "#7201a8"
             ],
             [
              0.3333333333333333,
              "#9c179e"
             ],
             [
              0.4444444444444444,
              "#bd3786"
             ],
             [
              0.5555555555555556,
              "#d8576b"
             ],
             [
              0.6666666666666666,
              "#ed7953"
             ],
             [
              0.7777777777777778,
              "#fb9f3a"
             ],
             [
              0.8888888888888888,
              "#fdca26"
             ],
             [
              1,
              "#f0f921"
             ]
            ],
            "type": "contour"
           }
          ],
          "contourcarpet": [
           {
            "colorbar": {
             "outlinewidth": 0,
             "ticks": ""
            },
            "type": "contourcarpet"
           }
          ],
          "heatmap": [
           {
            "colorbar": {
             "outlinewidth": 0,
             "ticks": ""
            },
            "colorscale": [
             [
              0,
              "#0d0887"
             ],
             [
              0.1111111111111111,
              "#46039f"
             ],
             [
              0.2222222222222222,
              "#7201a8"
             ],
             [
              0.3333333333333333,
              "#9c179e"
             ],
             [
              0.4444444444444444,
              "#bd3786"
             ],
             [
              0.5555555555555556,
              "#d8576b"
             ],
             [
              0.6666666666666666,
              "#ed7953"
             ],
             [
              0.7777777777777778,
              "#fb9f3a"
             ],
             [
              0.8888888888888888,
              "#fdca26"
             ],
             [
              1,
              "#f0f921"
             ]
            ],
            "type": "heatmap"
           }
          ],
          "heatmapgl": [
           {
            "colorbar": {
             "outlinewidth": 0,
             "ticks": ""
            },
            "colorscale": [
             [
              0,
              "#0d0887"
             ],
             [
              0.1111111111111111,
              "#46039f"
             ],
             [
              0.2222222222222222,
              "#7201a8"
             ],
             [
              0.3333333333333333,
              "#9c179e"
             ],
             [
              0.4444444444444444,
              "#bd3786"
             ],
             [
              0.5555555555555556,
              "#d8576b"
             ],
             [
              0.6666666666666666,
              "#ed7953"
             ],
             [
              0.7777777777777778,
              "#fb9f3a"
             ],
             [
              0.8888888888888888,
              "#fdca26"
             ],
             [
              1,
              "#f0f921"
             ]
            ],
            "type": "heatmapgl"
           }
          ],
          "histogram": [
           {
            "marker": {
             "colorbar": {
              "outlinewidth": 0,
              "ticks": ""
             }
            },
            "type": "histogram"
           }
          ],
          "histogram2d": [
           {
            "colorbar": {
             "outlinewidth": 0,
             "ticks": ""
            },
            "colorscale": [
             [
              0,
              "#0d0887"
             ],
             [
              0.1111111111111111,
              "#46039f"
             ],
             [
              0.2222222222222222,
              "#7201a8"
             ],
             [
              0.3333333333333333,
              "#9c179e"
             ],
             [
              0.4444444444444444,
              "#bd3786"
             ],
             [
              0.5555555555555556,
              "#d8576b"
             ],
             [
              0.6666666666666666,
              "#ed7953"
             ],
             [
              0.7777777777777778,
              "#fb9f3a"
             ],
             [
              0.8888888888888888,
              "#fdca26"
             ],
             [
              1,
              "#f0f921"
             ]
            ],
            "type": "histogram2d"
           }
          ],
          "histogram2dcontour": [
           {
            "colorbar": {
             "outlinewidth": 0,
             "ticks": ""
            },
            "colorscale": [
             [
              0,
              "#0d0887"
             ],
             [
              0.1111111111111111,
              "#46039f"
             ],
             [
              0.2222222222222222,
              "#7201a8"
             ],
             [
              0.3333333333333333,
              "#9c179e"
             ],
             [
              0.4444444444444444,
              "#bd3786"
             ],
             [
              0.5555555555555556,
              "#d8576b"
             ],
             [
              0.6666666666666666,
              "#ed7953"
             ],
             [
              0.7777777777777778,
              "#fb9f3a"
             ],
             [
              0.8888888888888888,
              "#fdca26"
             ],
             [
              1,
              "#f0f921"
             ]
            ],
            "type": "histogram2dcontour"
           }
          ],
          "mesh3d": [
           {
            "colorbar": {
             "outlinewidth": 0,
             "ticks": ""
            },
            "type": "mesh3d"
           }
          ],
          "parcoords": [
           {
            "line": {
             "colorbar": {
              "outlinewidth": 0,
              "ticks": ""
             }
            },
            "type": "parcoords"
           }
          ],
          "pie": [
           {
            "automargin": true,
            "type": "pie"
           }
          ],
          "scatter": [
           {
            "marker": {
             "colorbar": {
              "outlinewidth": 0,
              "ticks": ""
             }
            },
            "type": "scatter"
           }
          ],
          "scatter3d": [
           {
            "line": {
             "colorbar": {
              "outlinewidth": 0,
              "ticks": ""
             }
            },
            "marker": {
             "colorbar": {
              "outlinewidth": 0,
              "ticks": ""
             }
            },
            "type": "scatter3d"
           }
          ],
          "scattercarpet": [
           {
            "marker": {
             "colorbar": {
              "outlinewidth": 0,
              "ticks": ""
             }
            },
            "type": "scattercarpet"
           }
          ],
          "scattergeo": [
           {
            "marker": {
             "colorbar": {
              "outlinewidth": 0,
              "ticks": ""
             }
            },
            "type": "scattergeo"
           }
          ],
          "scattergl": [
           {
            "marker": {
             "colorbar": {
              "outlinewidth": 0,
              "ticks": ""
             }
            },
            "type": "scattergl"
           }
          ],
          "scattermapbox": [
           {
            "marker": {
             "colorbar": {
              "outlinewidth": 0,
              "ticks": ""
             }
            },
            "type": "scattermapbox"
           }
          ],
          "scatterpolar": [
           {
            "marker": {
             "colorbar": {
              "outlinewidth": 0,
              "ticks": ""
             }
            },
            "type": "scatterpolar"
           }
          ],
          "scatterpolargl": [
           {
            "marker": {
             "colorbar": {
              "outlinewidth": 0,
              "ticks": ""
             }
            },
            "type": "scatterpolargl"
           }
          ],
          "scatterternary": [
           {
            "marker": {
             "colorbar": {
              "outlinewidth": 0,
              "ticks": ""
             }
            },
            "type": "scatterternary"
           }
          ],
          "surface": [
           {
            "colorbar": {
             "outlinewidth": 0,
             "ticks": ""
            },
            "colorscale": [
             [
              0,
              "#0d0887"
             ],
             [
              0.1111111111111111,
              "#46039f"
             ],
             [
              0.2222222222222222,
              "#7201a8"
             ],
             [
              0.3333333333333333,
              "#9c179e"
             ],
             [
              0.4444444444444444,
              "#bd3786"
             ],
             [
              0.5555555555555556,
              "#d8576b"
             ],
             [
              0.6666666666666666,
              "#ed7953"
             ],
             [
              0.7777777777777778,
              "#fb9f3a"
             ],
             [
              0.8888888888888888,
              "#fdca26"
             ],
             [
              1,
              "#f0f921"
             ]
            ],
            "type": "surface"
           }
          ],
          "table": [
           {
            "cells": {
             "fill": {
              "color": "#EBF0F8"
             },
             "line": {
              "color": "white"
             }
            },
            "header": {
             "fill": {
              "color": "#C8D4E3"
             },
             "line": {
              "color": "white"
             }
            },
            "type": "table"
           }
          ]
         },
         "layout": {
          "annotationdefaults": {
           "arrowcolor": "#2a3f5f",
           "arrowhead": 0,
           "arrowwidth": 1
          },
          "autotypenumbers": "strict",
          "coloraxis": {
           "colorbar": {
            "outlinewidth": 0,
            "ticks": ""
           }
          },
          "colorscale": {
           "diverging": [
            [
             0,
             "#8e0152"
            ],
            [
             0.1,
             "#c51b7d"
            ],
            [
             0.2,
             "#de77ae"
            ],
            [
             0.3,
             "#f1b6da"
            ],
            [
             0.4,
             "#fde0ef"
            ],
            [
             0.5,
             "#f7f7f7"
            ],
            [
             0.6,
             "#e6f5d0"
            ],
            [
             0.7,
             "#b8e186"
            ],
            [
             0.8,
             "#7fbc41"
            ],
            [
             0.9,
             "#4d9221"
            ],
            [
             1,
             "#276419"
            ]
           ],
           "sequential": [
            [
             0,
             "#0d0887"
            ],
            [
             0.1111111111111111,
             "#46039f"
            ],
            [
             0.2222222222222222,
             "#7201a8"
            ],
            [
             0.3333333333333333,
             "#9c179e"
            ],
            [
             0.4444444444444444,
             "#bd3786"
            ],
            [
             0.5555555555555556,
             "#d8576b"
            ],
            [
             0.6666666666666666,
             "#ed7953"
            ],
            [
             0.7777777777777778,
             "#fb9f3a"
            ],
            [
             0.8888888888888888,
             "#fdca26"
            ],
            [
             1,
             "#f0f921"
            ]
           ],
           "sequentialminus": [
            [
             0,
             "#0d0887"
            ],
            [
             0.1111111111111111,
             "#46039f"
            ],
            [
             0.2222222222222222,
             "#7201a8"
            ],
            [
             0.3333333333333333,
             "#9c179e"
            ],
            [
             0.4444444444444444,
             "#bd3786"
            ],
            [
             0.5555555555555556,
             "#d8576b"
            ],
            [
             0.6666666666666666,
             "#ed7953"
            ],
            [
             0.7777777777777778,
             "#fb9f3a"
            ],
            [
             0.8888888888888888,
             "#fdca26"
            ],
            [
             1,
             "#f0f921"
            ]
           ]
          },
          "colorway": [
           "#636efa",
           "#EF553B",
           "#00cc96",
           "#ab63fa",
           "#FFA15A",
           "#19d3f3",
           "#FF6692",
           "#B6E880",
           "#FF97FF",
           "#FECB52"
          ],
          "font": {
           "color": "#2a3f5f"
          },
          "geo": {
           "bgcolor": "white",
           "lakecolor": "white",
           "landcolor": "#E5ECF6",
           "showlakes": true,
           "showland": true,
           "subunitcolor": "white"
          },
          "hoverlabel": {
           "align": "left"
          },
          "hovermode": "closest",
          "mapbox": {
           "style": "light"
          },
          "paper_bgcolor": "white",
          "plot_bgcolor": "#E5ECF6",
          "polar": {
           "angularaxis": {
            "gridcolor": "white",
            "linecolor": "white",
            "ticks": ""
           },
           "bgcolor": "#E5ECF6",
           "radialaxis": {
            "gridcolor": "white",
            "linecolor": "white",
            "ticks": ""
           }
          },
          "scene": {
           "xaxis": {
            "backgroundcolor": "#E5ECF6",
            "gridcolor": "white",
            "gridwidth": 2,
            "linecolor": "white",
            "showbackground": true,
            "ticks": "",
            "zerolinecolor": "white"
           },
           "yaxis": {
            "backgroundcolor": "#E5ECF6",
            "gridcolor": "white",
            "gridwidth": 2,
            "linecolor": "white",
            "showbackground": true,
            "ticks": "",
            "zerolinecolor": "white"
           },
           "zaxis": {
            "backgroundcolor": "#E5ECF6",
            "gridcolor": "white",
            "gridwidth": 2,
            "linecolor": "white",
            "showbackground": true,
            "ticks": "",
            "zerolinecolor": "white"
           }
          },
          "shapedefaults": {
           "line": {
            "color": "#2a3f5f"
           }
          },
          "ternary": {
           "aaxis": {
            "gridcolor": "white",
            "linecolor": "white",
            "ticks": ""
           },
           "baxis": {
            "gridcolor": "white",
            "linecolor": "white",
            "ticks": ""
           },
           "bgcolor": "#E5ECF6",
           "caxis": {
            "gridcolor": "white",
            "linecolor": "white",
            "ticks": ""
           }
          },
          "title": {
           "x": 0.05
          },
          "xaxis": {
           "automargin": true,
           "gridcolor": "white",
           "linecolor": "white",
           "ticks": "",
           "title": {
            "standoff": 15
           },
           "zerolinecolor": "white",
           "zerolinewidth": 2
          },
          "yaxis": {
           "automargin": true,
           "gridcolor": "white",
           "linecolor": "white",
           "ticks": "",
           "title": {
            "standoff": 15
           },
           "zerolinecolor": "white",
           "zerolinewidth": 2
          }
         }
        },
        "xaxis": {
         "anchor": "y",
         "domain": [
          0,
          1
         ],
         "title": {
          "text": "continent"
         }
        },
        "yaxis": {
         "anchor": "x",
         "domain": [
          0,
          1
         ],
         "title": {
          "text": "energy"
         }
        }
       }
      }
     },
     "metadata": {}
    }
   ],
   "source": [
    "energy_by_continent = gapminder_df.groupby(['continent', 'Year']).apply(lambda x: pd.Series({'energy':sum(x['Energy use (kg of oil equivalent per capita)'])})).reset_index()\n",
    "\n",
    "energy_by_continent\n",
    "\n",
    "\n",
    "\n",
    "fig = px.box(energy_by_continent, x=\"continent\", y=\"energy\")\n",
    "\n",
    "fig.show()"
   ]
  },
  {
   "source": [
    "Looks like energy usage is the highest for Europe, and drastically falls off for Asia and Americas. I have a hunch this is because Europe is huge + has higher GDP per capita. Furthermore, since Europe technically had the Industrial revolution first, their total CO2 emissions have to be much higher."
   ],
   "cell_type": "markdown",
   "metadata": {}
  },
  {
   "cell_type": "code",
   "execution_count": 162,
   "metadata": {},
   "outputs": [
    {
     "output_type": "execute_result",
     "data": {
      "text/plain": [
       "   continent  Year      Total GDP  Total Energy Usage\n",
       "0     Europe  2007  751634.449078       111639.415191\n",
       "1     Europe  2002  637558.703140       101562.156772\n",
       "2     Europe  1997  530362.323765        91132.271221\n",
       "3     Europe  1992  305111.299742        50693.007296\n",
       "4   Americas  2007  234181.535857        47969.009501\n",
       "5       Asia  2007  185086.990840        34370.699950\n",
       "6   Americas  2002  163791.296987        32740.548969\n",
       "7   Americas  1997  154654.636041        28255.393751\n",
       "8       Asia  2002  152785.712328        29496.719411\n",
       "9     Europe  1987  150763.551806        28943.306007\n",
       "10      Asia  1997  148470.054988        28084.809982\n",
       "11      Asia  1992  143379.554189        34444.646441\n",
       "12    Europe  1982  133030.972054        24565.738000\n",
       "13      Asia  1987  121281.824674        25778.317793\n",
       "14      Asia  1982  120664.448555        24001.981982\n",
       "15    Europe  1977  102437.011186        19868.103663\n",
       "16    Africa  2007   99502.239255        17447.689872\n",
       "17  Americas  1992   96337.350489        17037.226256\n",
       "18      Asia  1977   90318.462785        10708.123688\n",
       "19    Africa  2002   84102.097905        16417.391632\n",
       "20  Americas  1987   70942.208874        12527.790630\n",
       "21  Americas  1977   60732.767265         8362.588549\n",
       "22      Asia  1972   60156.948891         6224.956460\n",
       "23   Oceania  2007   59620.376550         9922.842102\n",
       "24    Africa  1997   59134.819699        13359.270512\n",
       "25  Americas  1982   58495.878725         8190.282205\n",
       "26    Europe  1972   57317.689270        11650.413045\n",
       "27  Americas  1972   54279.961000         7950.475995\n",
       "28   Oceania  2002   53877.556080         9907.021517\n",
       "29    Africa  1992   50498.419351        11354.723218\n",
       "30   Oceania  1997   48048.350340         9728.356766\n",
       "31    Africa  1987   44273.610330         9914.336483\n",
       "32    Africa  1982   43134.842472         9568.241537\n",
       "33   Oceania  1992   41788.091770         8767.692139\n",
       "34   Oceania  1987   40896.080320         8225.333145\n",
       "35   Oceania  1982   37109.419680         7830.460913\n",
       "36    Africa  1977   30068.699971         5971.540997\n",
       "37    Africa  1972   24474.156674         5061.597086\n",
       "38   Oceania  1977   18334.197510         4671.195674\n",
       "39   Oceania  1972   16788.629480         4035.206344\n",
       "40    Europe  1967   15826.274047         2726.304711\n",
       "41    Europe  1962    2322.869908          410.021797"
      ],
      "text/html": "<div>\n<style scoped>\n    .dataframe tbody tr th:only-of-type {\n        vertical-align: middle;\n    }\n\n    .dataframe tbody tr th {\n        vertical-align: top;\n    }\n\n    .dataframe thead th {\n        text-align: right;\n    }\n</style>\n<table border=\"1\" class=\"dataframe\">\n  <thead>\n    <tr style=\"text-align: right;\">\n      <th></th>\n      <th>continent</th>\n      <th>Year</th>\n      <th>Total GDP</th>\n      <th>Total Energy Usage</th>\n    </tr>\n  </thead>\n  <tbody>\n    <tr>\n      <th>0</th>\n      <td>Europe</td>\n      <td>2007</td>\n      <td>751634.449078</td>\n      <td>111639.415191</td>\n    </tr>\n    <tr>\n      <th>1</th>\n      <td>Europe</td>\n      <td>2002</td>\n      <td>637558.703140</td>\n      <td>101562.156772</td>\n    </tr>\n    <tr>\n      <th>2</th>\n      <td>Europe</td>\n      <td>1997</td>\n      <td>530362.323765</td>\n      <td>91132.271221</td>\n    </tr>\n    <tr>\n      <th>3</th>\n      <td>Europe</td>\n      <td>1992</td>\n      <td>305111.299742</td>\n      <td>50693.007296</td>\n    </tr>\n    <tr>\n      <th>4</th>\n      <td>Americas</td>\n      <td>2007</td>\n      <td>234181.535857</td>\n      <td>47969.009501</td>\n    </tr>\n    <tr>\n      <th>5</th>\n      <td>Asia</td>\n      <td>2007</td>\n      <td>185086.990840</td>\n      <td>34370.699950</td>\n    </tr>\n    <tr>\n      <th>6</th>\n      <td>Americas</td>\n      <td>2002</td>\n      <td>163791.296987</td>\n      <td>32740.548969</td>\n    </tr>\n    <tr>\n      <th>7</th>\n      <td>Americas</td>\n      <td>1997</td>\n      <td>154654.636041</td>\n      <td>28255.393751</td>\n    </tr>\n    <tr>\n      <th>8</th>\n      <td>Asia</td>\n      <td>2002</td>\n      <td>152785.712328</td>\n      <td>29496.719411</td>\n    </tr>\n    <tr>\n      <th>9</th>\n      <td>Europe</td>\n      <td>1987</td>\n      <td>150763.551806</td>\n      <td>28943.306007</td>\n    </tr>\n    <tr>\n      <th>10</th>\n      <td>Asia</td>\n      <td>1997</td>\n      <td>148470.054988</td>\n      <td>28084.809982</td>\n    </tr>\n    <tr>\n      <th>11</th>\n      <td>Asia</td>\n      <td>1992</td>\n      <td>143379.554189</td>\n      <td>34444.646441</td>\n    </tr>\n    <tr>\n      <th>12</th>\n      <td>Europe</td>\n      <td>1982</td>\n      <td>133030.972054</td>\n      <td>24565.738000</td>\n    </tr>\n    <tr>\n      <th>13</th>\n      <td>Asia</td>\n      <td>1987</td>\n      <td>121281.824674</td>\n      <td>25778.317793</td>\n    </tr>\n    <tr>\n      <th>14</th>\n      <td>Asia</td>\n      <td>1982</td>\n      <td>120664.448555</td>\n      <td>24001.981982</td>\n    </tr>\n    <tr>\n      <th>15</th>\n      <td>Europe</td>\n      <td>1977</td>\n      <td>102437.011186</td>\n      <td>19868.103663</td>\n    </tr>\n    <tr>\n      <th>16</th>\n      <td>Africa</td>\n      <td>2007</td>\n      <td>99502.239255</td>\n      <td>17447.689872</td>\n    </tr>\n    <tr>\n      <th>17</th>\n      <td>Americas</td>\n      <td>1992</td>\n      <td>96337.350489</td>\n      <td>17037.226256</td>\n    </tr>\n    <tr>\n      <th>18</th>\n      <td>Asia</td>\n      <td>1977</td>\n      <td>90318.462785</td>\n      <td>10708.123688</td>\n    </tr>\n    <tr>\n      <th>19</th>\n      <td>Africa</td>\n      <td>2002</td>\n      <td>84102.097905</td>\n      <td>16417.391632</td>\n    </tr>\n    <tr>\n      <th>20</th>\n      <td>Americas</td>\n      <td>1987</td>\n      <td>70942.208874</td>\n      <td>12527.790630</td>\n    </tr>\n    <tr>\n      <th>21</th>\n      <td>Americas</td>\n      <td>1977</td>\n      <td>60732.767265</td>\n      <td>8362.588549</td>\n    </tr>\n    <tr>\n      <th>22</th>\n      <td>Asia</td>\n      <td>1972</td>\n      <td>60156.948891</td>\n      <td>6224.956460</td>\n    </tr>\n    <tr>\n      <th>23</th>\n      <td>Oceania</td>\n      <td>2007</td>\n      <td>59620.376550</td>\n      <td>9922.842102</td>\n    </tr>\n    <tr>\n      <th>24</th>\n      <td>Africa</td>\n      <td>1997</td>\n      <td>59134.819699</td>\n      <td>13359.270512</td>\n    </tr>\n    <tr>\n      <th>25</th>\n      <td>Americas</td>\n      <td>1982</td>\n      <td>58495.878725</td>\n      <td>8190.282205</td>\n    </tr>\n    <tr>\n      <th>26</th>\n      <td>Europe</td>\n      <td>1972</td>\n      <td>57317.689270</td>\n      <td>11650.413045</td>\n    </tr>\n    <tr>\n      <th>27</th>\n      <td>Americas</td>\n      <td>1972</td>\n      <td>54279.961000</td>\n      <td>7950.475995</td>\n    </tr>\n    <tr>\n      <th>28</th>\n      <td>Oceania</td>\n      <td>2002</td>\n      <td>53877.556080</td>\n      <td>9907.021517</td>\n    </tr>\n    <tr>\n      <th>29</th>\n      <td>Africa</td>\n      <td>1992</td>\n      <td>50498.419351</td>\n      <td>11354.723218</td>\n    </tr>\n    <tr>\n      <th>30</th>\n      <td>Oceania</td>\n      <td>1997</td>\n      <td>48048.350340</td>\n      <td>9728.356766</td>\n    </tr>\n    <tr>\n      <th>31</th>\n      <td>Africa</td>\n      <td>1987</td>\n      <td>44273.610330</td>\n      <td>9914.336483</td>\n    </tr>\n    <tr>\n      <th>32</th>\n      <td>Africa</td>\n      <td>1982</td>\n      <td>43134.842472</td>\n      <td>9568.241537</td>\n    </tr>\n    <tr>\n      <th>33</th>\n      <td>Oceania</td>\n      <td>1992</td>\n      <td>41788.091770</td>\n      <td>8767.692139</td>\n    </tr>\n    <tr>\n      <th>34</th>\n      <td>Oceania</td>\n      <td>1987</td>\n      <td>40896.080320</td>\n      <td>8225.333145</td>\n    </tr>\n    <tr>\n      <th>35</th>\n      <td>Oceania</td>\n      <td>1982</td>\n      <td>37109.419680</td>\n      <td>7830.460913</td>\n    </tr>\n    <tr>\n      <th>36</th>\n      <td>Africa</td>\n      <td>1977</td>\n      <td>30068.699971</td>\n      <td>5971.540997</td>\n    </tr>\n    <tr>\n      <th>37</th>\n      <td>Africa</td>\n      <td>1972</td>\n      <td>24474.156674</td>\n      <td>5061.597086</td>\n    </tr>\n    <tr>\n      <th>38</th>\n      <td>Oceania</td>\n      <td>1977</td>\n      <td>18334.197510</td>\n      <td>4671.195674</td>\n    </tr>\n    <tr>\n      <th>39</th>\n      <td>Oceania</td>\n      <td>1972</td>\n      <td>16788.629480</td>\n      <td>4035.206344</td>\n    </tr>\n    <tr>\n      <th>40</th>\n      <td>Europe</td>\n      <td>1967</td>\n      <td>15826.274047</td>\n      <td>2726.304711</td>\n    </tr>\n    <tr>\n      <th>41</th>\n      <td>Europe</td>\n      <td>1962</td>\n      <td>2322.869908</td>\n      <td>410.021797</td>\n    </tr>\n  </tbody>\n</table>\n</div>"
     },
     "metadata": {},
     "execution_count": 162
    }
   ],
   "source": [
    "from scipy.stats import pearsonr\n",
    "\n",
    "process = lambda group: pd.Series({'Total GDP':np.sum(group[gdp_label]), 'Total Energy Usage': np.sum(group['Energy use (kg of oil equivalent per capita)'])})\n",
    "\n",
    "total_gdp = gapminder_df.groupby(['continent','Year']).apply(process).sort_values(by=['Total GDP'], ascending=False).reset_index()\n",
    "    \n",
    "\n",
    "total_gdp\n"
   ]
  },
  {
   "source": [
    "Looks like my hunch was right, and if the total GDP of a continent is higher, then the Energy used by the continent is also higher. I think its skewed because I batched all years together and the correlation would fluctuate if time-stepped.  \n",
    "\n",
    "### Q2\n",
    "\n",
    "Is there a significant difference between Europe and North America with respect to 'Imports of goods and services (% of GDP)' in the years after 1990?\n",
    "\n",
    "For simplicity, I will only be considering US + Canada + Mexico as North American countries. \n"
   ],
   "cell_type": "markdown",
   "metadata": {}
  },
  {
   "cell_type": "code",
   "execution_count": 155,
   "metadata": {},
   "outputs": [
    {
     "output_type": "display_data",
     "data": {
      "application/vnd.plotly.v1+json": {
       "config": {
        "plotlyServerURL": "https://plot.ly"
       },
       "data": [
        {
         "alignmentgroup": "True",
         "hovertemplate": "variable=EU Import<br>Year=%{x}<br>value=%{y}<extra></extra>",
         "legendgroup": "EU Import",
         "marker": {
          "color": "#636efa"
         },
         "name": "EU Import",
         "offsetgroup": "EU Import",
         "orientation": "v",
         "showlegend": true,
         "textposition": "auto",
         "type": "bar",
         "x": [
          1992,
          1997,
          2002,
          2007
         ],
         "xaxis": "x",
         "y": [
          421.44746482320005,
          1025.4068804893998,
          1162.1917454604998,
          1508.5444815735998
         ],
         "yaxis": "y"
        },
        {
         "alignmentgroup": "True",
         "hovertemplate": "variable=NA Import<br>Year=%{x}<br>value=%{y}<extra></extra>",
         "legendgroup": "NA Import",
         "marker": {
          "color": "#EF553B"
         },
         "name": "NA Import",
         "offsetgroup": "NA Import",
         "orientation": "v",
         "showlegend": true,
         "textposition": "auto",
         "type": "bar",
         "x": [
          1992,
          1997,
          2002,
          2007
         ],
         "xaxis": "x",
         "y": [
          20.2715398114,
          36.3535470929,
          37.9258099691,
          77.8240689739
         ],
         "yaxis": "y"
        }
       ],
       "layout": {
        "barmode": "group",
        "legend": {
         "title": {
          "text": "variable"
         },
         "tracegroupgap": 0
        },
        "margin": {
         "t": 60
        },
        "template": {
         "data": {
          "bar": [
           {
            "error_x": {
             "color": "#2a3f5f"
            },
            "error_y": {
             "color": "#2a3f5f"
            },
            "marker": {
             "line": {
              "color": "#E5ECF6",
              "width": 0.5
             }
            },
            "type": "bar"
           }
          ],
          "barpolar": [
           {
            "marker": {
             "line": {
              "color": "#E5ECF6",
              "width": 0.5
             }
            },
            "type": "barpolar"
           }
          ],
          "carpet": [
           {
            "aaxis": {
             "endlinecolor": "#2a3f5f",
             "gridcolor": "white",
             "linecolor": "white",
             "minorgridcolor": "white",
             "startlinecolor": "#2a3f5f"
            },
            "baxis": {
             "endlinecolor": "#2a3f5f",
             "gridcolor": "white",
             "linecolor": "white",
             "minorgridcolor": "white",
             "startlinecolor": "#2a3f5f"
            },
            "type": "carpet"
           }
          ],
          "choropleth": [
           {
            "colorbar": {
             "outlinewidth": 0,
             "ticks": ""
            },
            "type": "choropleth"
           }
          ],
          "contour": [
           {
            "colorbar": {
             "outlinewidth": 0,
             "ticks": ""
            },
            "colorscale": [
             [
              0,
              "#0d0887"
             ],
             [
              0.1111111111111111,
              "#46039f"
             ],
             [
              0.2222222222222222,
              "#7201a8"
             ],
             [
              0.3333333333333333,
              "#9c179e"
             ],
             [
              0.4444444444444444,
              "#bd3786"
             ],
             [
              0.5555555555555556,
              "#d8576b"
             ],
             [
              0.6666666666666666,
              "#ed7953"
             ],
             [
              0.7777777777777778,
              "#fb9f3a"
             ],
             [
              0.8888888888888888,
              "#fdca26"
             ],
             [
              1,
              "#f0f921"
             ]
            ],
            "type": "contour"
           }
          ],
          "contourcarpet": [
           {
            "colorbar": {
             "outlinewidth": 0,
             "ticks": ""
            },
            "type": "contourcarpet"
           }
          ],
          "heatmap": [
           {
            "colorbar": {
             "outlinewidth": 0,
             "ticks": ""
            },
            "colorscale": [
             [
              0,
              "#0d0887"
             ],
             [
              0.1111111111111111,
              "#46039f"
             ],
             [
              0.2222222222222222,
              "#7201a8"
             ],
             [
              0.3333333333333333,
              "#9c179e"
             ],
             [
              0.4444444444444444,
              "#bd3786"
             ],
             [
              0.5555555555555556,
              "#d8576b"
             ],
             [
              0.6666666666666666,
              "#ed7953"
             ],
             [
              0.7777777777777778,
              "#fb9f3a"
             ],
             [
              0.8888888888888888,
              "#fdca26"
             ],
             [
              1,
              "#f0f921"
             ]
            ],
            "type": "heatmap"
           }
          ],
          "heatmapgl": [
           {
            "colorbar": {
             "outlinewidth": 0,
             "ticks": ""
            },
            "colorscale": [
             [
              0,
              "#0d0887"
             ],
             [
              0.1111111111111111,
              "#46039f"
             ],
             [
              0.2222222222222222,
              "#7201a8"
             ],
             [
              0.3333333333333333,
              "#9c179e"
             ],
             [
              0.4444444444444444,
              "#bd3786"
             ],
             [
              0.5555555555555556,
              "#d8576b"
             ],
             [
              0.6666666666666666,
              "#ed7953"
             ],
             [
              0.7777777777777778,
              "#fb9f3a"
             ],
             [
              0.8888888888888888,
              "#fdca26"
             ],
             [
              1,
              "#f0f921"
             ]
            ],
            "type": "heatmapgl"
           }
          ],
          "histogram": [
           {
            "marker": {
             "colorbar": {
              "outlinewidth": 0,
              "ticks": ""
             }
            },
            "type": "histogram"
           }
          ],
          "histogram2d": [
           {
            "colorbar": {
             "outlinewidth": 0,
             "ticks": ""
            },
            "colorscale": [
             [
              0,
              "#0d0887"
             ],
             [
              0.1111111111111111,
              "#46039f"
             ],
             [
              0.2222222222222222,
              "#7201a8"
             ],
             [
              0.3333333333333333,
              "#9c179e"
             ],
             [
              0.4444444444444444,
              "#bd3786"
             ],
             [
              0.5555555555555556,
              "#d8576b"
             ],
             [
              0.6666666666666666,
              "#ed7953"
             ],
             [
              0.7777777777777778,
              "#fb9f3a"
             ],
             [
              0.8888888888888888,
              "#fdca26"
             ],
             [
              1,
              "#f0f921"
             ]
            ],
            "type": "histogram2d"
           }
          ],
          "histogram2dcontour": [
           {
            "colorbar": {
             "outlinewidth": 0,
             "ticks": ""
            },
            "colorscale": [
             [
              0,
              "#0d0887"
             ],
             [
              0.1111111111111111,
              "#46039f"
             ],
             [
              0.2222222222222222,
              "#7201a8"
             ],
             [
              0.3333333333333333,
              "#9c179e"
             ],
             [
              0.4444444444444444,
              "#bd3786"
             ],
             [
              0.5555555555555556,
              "#d8576b"
             ],
             [
              0.6666666666666666,
              "#ed7953"
             ],
             [
              0.7777777777777778,
              "#fb9f3a"
             ],
             [
              0.8888888888888888,
              "#fdca26"
             ],
             [
              1,
              "#f0f921"
             ]
            ],
            "type": "histogram2dcontour"
           }
          ],
          "mesh3d": [
           {
            "colorbar": {
             "outlinewidth": 0,
             "ticks": ""
            },
            "type": "mesh3d"
           }
          ],
          "parcoords": [
           {
            "line": {
             "colorbar": {
              "outlinewidth": 0,
              "ticks": ""
             }
            },
            "type": "parcoords"
           }
          ],
          "pie": [
           {
            "automargin": true,
            "type": "pie"
           }
          ],
          "scatter": [
           {
            "marker": {
             "colorbar": {
              "outlinewidth": 0,
              "ticks": ""
             }
            },
            "type": "scatter"
           }
          ],
          "scatter3d": [
           {
            "line": {
             "colorbar": {
              "outlinewidth": 0,
              "ticks": ""
             }
            },
            "marker": {
             "colorbar": {
              "outlinewidth": 0,
              "ticks": ""
             }
            },
            "type": "scatter3d"
           }
          ],
          "scattercarpet": [
           {
            "marker": {
             "colorbar": {
              "outlinewidth": 0,
              "ticks": ""
             }
            },
            "type": "scattercarpet"
           }
          ],
          "scattergeo": [
           {
            "marker": {
             "colorbar": {
              "outlinewidth": 0,
              "ticks": ""
             }
            },
            "type": "scattergeo"
           }
          ],
          "scattergl": [
           {
            "marker": {
             "colorbar": {
              "outlinewidth": 0,
              "ticks": ""
             }
            },
            "type": "scattergl"
           }
          ],
          "scattermapbox": [
           {
            "marker": {
             "colorbar": {
              "outlinewidth": 0,
              "ticks": ""
             }
            },
            "type": "scattermapbox"
           }
          ],
          "scatterpolar": [
           {
            "marker": {
             "colorbar": {
              "outlinewidth": 0,
              "ticks": ""
             }
            },
            "type": "scatterpolar"
           }
          ],
          "scatterpolargl": [
           {
            "marker": {
             "colorbar": {
              "outlinewidth": 0,
              "ticks": ""
             }
            },
            "type": "scatterpolargl"
           }
          ],
          "scatterternary": [
           {
            "marker": {
             "colorbar": {
              "outlinewidth": 0,
              "ticks": ""
             }
            },
            "type": "scatterternary"
           }
          ],
          "surface": [
           {
            "colorbar": {
             "outlinewidth": 0,
             "ticks": ""
            },
            "colorscale": [
             [
              0,
              "#0d0887"
             ],
             [
              0.1111111111111111,
              "#46039f"
             ],
             [
              0.2222222222222222,
              "#7201a8"
             ],
             [
              0.3333333333333333,
              "#9c179e"
             ],
             [
              0.4444444444444444,
              "#bd3786"
             ],
             [
              0.5555555555555556,
              "#d8576b"
             ],
             [
              0.6666666666666666,
              "#ed7953"
             ],
             [
              0.7777777777777778,
              "#fb9f3a"
             ],
             [
              0.8888888888888888,
              "#fdca26"
             ],
             [
              1,
              "#f0f921"
             ]
            ],
            "type": "surface"
           }
          ],
          "table": [
           {
            "cells": {
             "fill": {
              "color": "#EBF0F8"
             },
             "line": {
              "color": "white"
             }
            },
            "header": {
             "fill": {
              "color": "#C8D4E3"
             },
             "line": {
              "color": "white"
             }
            },
            "type": "table"
           }
          ]
         },
         "layout": {
          "annotationdefaults": {
           "arrowcolor": "#2a3f5f",
           "arrowhead": 0,
           "arrowwidth": 1
          },
          "autotypenumbers": "strict",
          "coloraxis": {
           "colorbar": {
            "outlinewidth": 0,
            "ticks": ""
           }
          },
          "colorscale": {
           "diverging": [
            [
             0,
             "#8e0152"
            ],
            [
             0.1,
             "#c51b7d"
            ],
            [
             0.2,
             "#de77ae"
            ],
            [
             0.3,
             "#f1b6da"
            ],
            [
             0.4,
             "#fde0ef"
            ],
            [
             0.5,
             "#f7f7f7"
            ],
            [
             0.6,
             "#e6f5d0"
            ],
            [
             0.7,
             "#b8e186"
            ],
            [
             0.8,
             "#7fbc41"
            ],
            [
             0.9,
             "#4d9221"
            ],
            [
             1,
             "#276419"
            ]
           ],
           "sequential": [
            [
             0,
             "#0d0887"
            ],
            [
             0.1111111111111111,
             "#46039f"
            ],
            [
             0.2222222222222222,
             "#7201a8"
            ],
            [
             0.3333333333333333,
             "#9c179e"
            ],
            [
             0.4444444444444444,
             "#bd3786"
            ],
            [
             0.5555555555555556,
             "#d8576b"
            ],
            [
             0.6666666666666666,
             "#ed7953"
            ],
            [
             0.7777777777777778,
             "#fb9f3a"
            ],
            [
             0.8888888888888888,
             "#fdca26"
            ],
            [
             1,
             "#f0f921"
            ]
           ],
           "sequentialminus": [
            [
             0,
             "#0d0887"
            ],
            [
             0.1111111111111111,
             "#46039f"
            ],
            [
             0.2222222222222222,
             "#7201a8"
            ],
            [
             0.3333333333333333,
             "#9c179e"
            ],
            [
             0.4444444444444444,
             "#bd3786"
            ],
            [
             0.5555555555555556,
             "#d8576b"
            ],
            [
             0.6666666666666666,
             "#ed7953"
            ],
            [
             0.7777777777777778,
             "#fb9f3a"
            ],
            [
             0.8888888888888888,
             "#fdca26"
            ],
            [
             1,
             "#f0f921"
            ]
           ]
          },
          "colorway": [
           "#636efa",
           "#EF553B",
           "#00cc96",
           "#ab63fa",
           "#FFA15A",
           "#19d3f3",
           "#FF6692",
           "#B6E880",
           "#FF97FF",
           "#FECB52"
          ],
          "font": {
           "color": "#2a3f5f"
          },
          "geo": {
           "bgcolor": "white",
           "lakecolor": "white",
           "landcolor": "#E5ECF6",
           "showlakes": true,
           "showland": true,
           "subunitcolor": "white"
          },
          "hoverlabel": {
           "align": "left"
          },
          "hovermode": "closest",
          "mapbox": {
           "style": "light"
          },
          "paper_bgcolor": "white",
          "plot_bgcolor": "#E5ECF6",
          "polar": {
           "angularaxis": {
            "gridcolor": "white",
            "linecolor": "white",
            "ticks": ""
           },
           "bgcolor": "#E5ECF6",
           "radialaxis": {
            "gridcolor": "white",
            "linecolor": "white",
            "ticks": ""
           }
          },
          "scene": {
           "xaxis": {
            "backgroundcolor": "#E5ECF6",
            "gridcolor": "white",
            "gridwidth": 2,
            "linecolor": "white",
            "showbackground": true,
            "ticks": "",
            "zerolinecolor": "white"
           },
           "yaxis": {
            "backgroundcolor": "#E5ECF6",
            "gridcolor": "white",
            "gridwidth": 2,
            "linecolor": "white",
            "showbackground": true,
            "ticks": "",
            "zerolinecolor": "white"
           },
           "zaxis": {
            "backgroundcolor": "#E5ECF6",
            "gridcolor": "white",
            "gridwidth": 2,
            "linecolor": "white",
            "showbackground": true,
            "ticks": "",
            "zerolinecolor": "white"
           }
          },
          "shapedefaults": {
           "line": {
            "color": "#2a3f5f"
           }
          },
          "ternary": {
           "aaxis": {
            "gridcolor": "white",
            "linecolor": "white",
            "ticks": ""
           },
           "baxis": {
            "gridcolor": "white",
            "linecolor": "white",
            "ticks": ""
           },
           "bgcolor": "#E5ECF6",
           "caxis": {
            "gridcolor": "white",
            "linecolor": "white",
            "ticks": ""
           }
          },
          "title": {
           "x": 0.05
          },
          "xaxis": {
           "automargin": true,
           "gridcolor": "white",
           "linecolor": "white",
           "ticks": "",
           "title": {
            "standoff": 15
           },
           "zerolinecolor": "white",
           "zerolinewidth": 2
          },
          "yaxis": {
           "automargin": true,
           "gridcolor": "white",
           "linecolor": "white",
           "ticks": "",
           "title": {
            "standoff": 15
           },
           "zerolinecolor": "white",
           "zerolinewidth": 2
          }
         }
        },
        "xaxis": {
         "anchor": "y",
         "domain": [
          0,
          1
         ],
         "title": {
          "text": "Year"
         }
        },
        "yaxis": {
         "anchor": "x",
         "domain": [
          0,
          1
         ],
         "title": {
          "text": "value"
         }
        }
       }
      }
     },
     "metadata": {}
    }
   ],
   "source": [
    "q2_df = gapminder_df[gapminder_df['Year'] > 1990]\n",
    "\n",
    "north_american_countries = ['United States', 'Canada', 'Mexico']\n",
    "goods_label = 'Imports of goods and services (% of GDP)'\n",
    "\n",
    "na_df = q2_df[q2_df['Country Name'].isin(north_american_countries)]\n",
    "eu_df = q2_df[q2_df['continent']=='Europe']\n",
    "\n",
    "eu_goods = eu_df.groupby('Year').apply(lambda x: pd.Series({'EU Import': np.sum(x[goods_label])})).reset_index()\n",
    "na_goods = na_df.groupby('Year').apply(lambda x: pd.Series({'NA Import': np.sum(x[goods_label])})).reset_index()\n",
    "\n",
    "merged_goods = eu_goods.merge(na_goods, on='Year')\n",
    "\n",
    "px.bar(merged_goods, x='Year', y=['EU Import', 'NA Import'], barmode='group')"
   ]
  },
  {
   "cell_type": "code",
   "execution_count": 154,
   "metadata": {},
   "outputs": [
    {
     "output_type": "execute_result",
     "data": {
      "text/plain": [
       "array(['Albania', 'Algeria', 'Angola', 'Argentina', 'Australia',\n",
       "       'Austria', 'Bahrain', 'Bangladesh', 'Belgium', 'Benin', 'Bolivia',\n",
       "       'Bosnia and Herzegovina', 'Botswana', 'Brazil', 'Bulgaria',\n",
       "       'Cambodia', 'Cameroon', 'Canada', 'Chile', 'China', 'Colombia',\n",
       "       'Costa Rica', \"Cote d'Ivoire\", 'Croatia', 'Czech Republic',\n",
       "       'Denmark', 'Dominican Republic', 'Ecuador', 'El Salvador',\n",
       "       'Eritrea', 'Finland', 'France', 'Gabon', 'Germany', 'Ghana',\n",
       "       'Greece', 'Guatemala', 'Honduras', 'Hungary', 'Iceland', 'India',\n",
       "       'Indonesia', 'Ireland', 'Italy', 'Jamaica', 'Japan', 'Jordan',\n",
       "       'Kenya', 'Lebanon', 'Libya', 'Malaysia', 'Mauritius', 'Mexico',\n",
       "       'Mongolia', 'Montenegro', 'Morocco', 'Mozambique', 'Myanmar',\n",
       "       'Namibia', 'Nepal', 'Netherlands', 'New Zealand', 'Nicaragua',\n",
       "       'Niger', 'Nigeria', 'Norway', 'Oman', 'Pakistan', 'Panama',\n",
       "       'Paraguay', 'Peru', 'Philippines', 'Poland', 'Portugal', 'Romania',\n",
       "       'Saudi Arabia', 'Senegal', 'Serbia', 'Singapore',\n",
       "       'Slovak Republic', 'Slovenia', 'South Africa', 'Spain', 'Sudan',\n",
       "       'Sweden', 'Switzerland', 'Tanzania', 'Thailand', 'Togo',\n",
       "       'Trinidad and Tobago', 'Tunisia', 'Turkey', 'United Kingdom',\n",
       "       'United States', 'Uruguay', 'Vietnam', 'Zambia', 'Zimbabwe'],\n",
       "      dtype=object)"
      ]
     },
     "metadata": {},
     "execution_count": 154
    }
   ],
   "source": []
  },
  {
   "cell_type": "code",
   "execution_count": null,
   "metadata": {},
   "outputs": [],
   "source": []
  }
 ]
}